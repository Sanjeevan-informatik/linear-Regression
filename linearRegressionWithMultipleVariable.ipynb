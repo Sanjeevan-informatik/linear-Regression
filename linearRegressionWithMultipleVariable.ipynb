{
  "nbformat": 4,
  "nbformat_minor": 0,
  "metadata": {
    "kernelspec": {
      "display_name": "Python 3",
      "language": "python",
      "name": "python3"
    },
    "language_info": {
      "codemirror_mode": {
        "name": "ipython",
        "version": 3
      },
      "file_extension": ".py",
      "mimetype": "text/x-python",
      "name": "python",
      "nbconvert_exporter": "python",
      "pygments_lexer": "ipython3",
      "version": "3.7.1"
    },
    "colab": {
      "name": "linearRegressionWithMultipleVariable.ipynb",
      "provenance": [],
      "toc_visible": true
    }
  },
  "cells": [
    {
      "cell_type": "code",
      "metadata": {
        "id": "UQoEjwjvsuO1",
        "outputId": "3d14f9a7-c61b-4269-b0b3-2eac7d6ea2a9",
        "colab": {
          "base_uri": "https://localhost:8080/",
          "height": 55
        }
      },
      "source": [
        "from google.colab import drive\n",
        "drive.mount('/content/drive')"
      ],
      "execution_count": null,
      "outputs": [
        {
          "output_type": "stream",
          "text": [
            "Drive already mounted at /content/drive; to attempt to forcibly remount, call drive.mount(\"/content/drive\", force_remount=True).\n"
          ],
          "name": "stdout"
        }
      ]
    },
    {
      "cell_type": "markdown",
      "metadata": {
        "id": "7YdFHdQ-glTK"
      },
      "source": [
        "## **Introduction** ## \n",
        "\n",
        "We have a data which classified if patients have heart disease or not according to features in it. We will try to use this data to create a linear regression model from scratch, which tries predict if a patient has this disease or not. "
      ]
    },
    {
      "cell_type": "code",
      "metadata": {
        "id": "-5N9sCimfcmh"
      },
      "source": [
        "import pandas as pd\n",
        "import matplotlib.pyplot as plt \n",
        "from tqdm import tqdm\n",
        "from sklearn.preprocessing import StandardScaler\n",
        "import numpy as np\n",
        "from sklearn import preprocessing"
      ],
      "execution_count": null,
      "outputs": []
    },
    {
      "cell_type": "markdown",
      "metadata": {
        "id": "ZFk96j-EgX1W"
      },
      "source": [
        "## **Data Description** ##\n",
        "\n",
        "\n",
        "   - age - age in years\n",
        "   - sex - (1 = male; 0 = female)\n",
        "   - cp - chest pain type\n",
        "   - trestbps - resting blood pressure (in mm Hg on admission to the hospital)\n",
        "   - chol - serum cholestoral in mg/dl\n",
        "   - fbs - (fasting blood sugar > 120 mg/dl) (1 = true; 0 = false)\n",
        "   - restecg - resting electrocardiographic results\n",
        "   - thalach - maximum heart rate achieved\n",
        "   - exang - exercise induced angina (1 = yes; 0 = no)\n",
        "   - oldpeak - ST depression induced by exercise relative to rest\n",
        "   - slope - the slope of the peak exercise ST segment\n",
        "   - ca - number of major vessels (0-3) colored by flourosopy\n",
        "   - thal - 3 = normal; 6 = fixed defect; 7 = reversable defect\n",
        "   -  target - have disease or not (1=yes, 0=no)\n"
      ]
    },
    {
      "cell_type": "code",
      "metadata": {
        "id": "SHGtn9Spfcmu",
        "outputId": "8d56ddfe-b82d-423a-8d6b-8a7c640e71c3",
        "colab": {
          "base_uri": "https://localhost:8080/",
          "height": 206
        }
      },
      "source": [
        "df = pd.read_csv('Heart.csv')\n",
        "df.head()"
      ],
      "execution_count": null,
      "outputs": [
        {
          "output_type": "execute_result",
          "data": {
            "text/html": [
              "<div>\n",
              "<style scoped>\n",
              "    .dataframe tbody tr th:only-of-type {\n",
              "        vertical-align: middle;\n",
              "    }\n",
              "\n",
              "    .dataframe tbody tr th {\n",
              "        vertical-align: top;\n",
              "    }\n",
              "\n",
              "    .dataframe thead th {\n",
              "        text-align: right;\n",
              "    }\n",
              "</style>\n",
              "<table border=\"1\" class=\"dataframe\">\n",
              "  <thead>\n",
              "    <tr style=\"text-align: right;\">\n",
              "      <th></th>\n",
              "      <th>Unnamed: 0</th>\n",
              "      <th>Age</th>\n",
              "      <th>Sex</th>\n",
              "      <th>ChestPain</th>\n",
              "      <th>RestBP</th>\n",
              "      <th>Chol</th>\n",
              "      <th>Fbs</th>\n",
              "      <th>RestECG</th>\n",
              "      <th>MaxHR</th>\n",
              "      <th>ExAng</th>\n",
              "      <th>Oldpeak</th>\n",
              "      <th>Slope</th>\n",
              "      <th>Ca</th>\n",
              "      <th>Thal</th>\n",
              "      <th>AHD</th>\n",
              "    </tr>\n",
              "  </thead>\n",
              "  <tbody>\n",
              "    <tr>\n",
              "      <th>0</th>\n",
              "      <td>1</td>\n",
              "      <td>63</td>\n",
              "      <td>1</td>\n",
              "      <td>typical</td>\n",
              "      <td>145</td>\n",
              "      <td>233</td>\n",
              "      <td>1</td>\n",
              "      <td>2</td>\n",
              "      <td>150</td>\n",
              "      <td>0</td>\n",
              "      <td>2.3</td>\n",
              "      <td>3</td>\n",
              "      <td>0.0</td>\n",
              "      <td>fixed</td>\n",
              "      <td>No</td>\n",
              "    </tr>\n",
              "    <tr>\n",
              "      <th>1</th>\n",
              "      <td>2</td>\n",
              "      <td>67</td>\n",
              "      <td>1</td>\n",
              "      <td>asymptomatic</td>\n",
              "      <td>160</td>\n",
              "      <td>286</td>\n",
              "      <td>0</td>\n",
              "      <td>2</td>\n",
              "      <td>108</td>\n",
              "      <td>1</td>\n",
              "      <td>1.5</td>\n",
              "      <td>2</td>\n",
              "      <td>3.0</td>\n",
              "      <td>normal</td>\n",
              "      <td>Yes</td>\n",
              "    </tr>\n",
              "    <tr>\n",
              "      <th>2</th>\n",
              "      <td>3</td>\n",
              "      <td>67</td>\n",
              "      <td>1</td>\n",
              "      <td>asymptomatic</td>\n",
              "      <td>120</td>\n",
              "      <td>229</td>\n",
              "      <td>0</td>\n",
              "      <td>2</td>\n",
              "      <td>129</td>\n",
              "      <td>1</td>\n",
              "      <td>2.6</td>\n",
              "      <td>2</td>\n",
              "      <td>2.0</td>\n",
              "      <td>reversable</td>\n",
              "      <td>Yes</td>\n",
              "    </tr>\n",
              "    <tr>\n",
              "      <th>3</th>\n",
              "      <td>4</td>\n",
              "      <td>37</td>\n",
              "      <td>1</td>\n",
              "      <td>nonanginal</td>\n",
              "      <td>130</td>\n",
              "      <td>250</td>\n",
              "      <td>0</td>\n",
              "      <td>0</td>\n",
              "      <td>187</td>\n",
              "      <td>0</td>\n",
              "      <td>3.5</td>\n",
              "      <td>3</td>\n",
              "      <td>0.0</td>\n",
              "      <td>normal</td>\n",
              "      <td>No</td>\n",
              "    </tr>\n",
              "    <tr>\n",
              "      <th>4</th>\n",
              "      <td>5</td>\n",
              "      <td>41</td>\n",
              "      <td>0</td>\n",
              "      <td>nontypical</td>\n",
              "      <td>130</td>\n",
              "      <td>204</td>\n",
              "      <td>0</td>\n",
              "      <td>2</td>\n",
              "      <td>172</td>\n",
              "      <td>0</td>\n",
              "      <td>1.4</td>\n",
              "      <td>1</td>\n",
              "      <td>0.0</td>\n",
              "      <td>normal</td>\n",
              "      <td>No</td>\n",
              "    </tr>\n",
              "  </tbody>\n",
              "</table>\n",
              "</div>"
            ],
            "text/plain": [
              "   Unnamed: 0  Age  Sex     ChestPain  ...  Slope   Ca        Thal  AHD\n",
              "0           1   63    1       typical  ...      3  0.0       fixed   No\n",
              "1           2   67    1  asymptomatic  ...      2  3.0      normal  Yes\n",
              "2           3   67    1  asymptomatic  ...      2  2.0  reversable  Yes\n",
              "3           4   37    1    nonanginal  ...      3  0.0      normal   No\n",
              "4           5   41    0    nontypical  ...      1  0.0      normal   No\n",
              "\n",
              "[5 rows x 15 columns]"
            ]
          },
          "metadata": {
            "tags": []
          },
          "execution_count": 28
        }
      ]
    },
    {
      "cell_type": "markdown",
      "metadata": {
        "id": "JI_nHPDOh-5o"
      },
      "source": [
        "## **Data preprocessing** ##\n",
        "\n",
        " - convert the string value such as ChestPain, Thal, and AHD to numeric format\n",
        " - Eliminate rows with missing data "
      ]
    },
    {
      "cell_type": "code",
      "metadata": {
        "id": "otSdBRtMfcnA",
        "outputId": "15e5abc9-ee7d-4cf5-b057-b4363e5e3902",
        "colab": {
          "base_uri": "https://localhost:8080/",
          "height": 54
        }
      },
      "source": [
        "df['ChestPain'].unique()"
      ],
      "execution_count": null,
      "outputs": [
        {
          "output_type": "execute_result",
          "data": {
            "text/plain": [
              "array(['typical', 'asymptomatic', 'nonanginal', 'nontypical'],\n",
              "      dtype=object)"
            ]
          },
          "metadata": {
            "tags": []
          },
          "execution_count": 29
        }
      ]
    },
    {
      "cell_type": "code",
      "metadata": {
        "id": "W3xRuH1kfcnL",
        "outputId": "5e469ef9-1750-4a60-9512-d38b19979246",
        "colab": {
          "base_uri": "https://localhost:8080/",
          "height": 35
        }
      },
      "source": [
        "df['Thal'].unique()"
      ],
      "execution_count": null,
      "outputs": [
        {
          "output_type": "execute_result",
          "data": {
            "text/plain": [
              "array(['fixed', 'normal', 'reversable', nan], dtype=object)"
            ]
          },
          "metadata": {
            "tags": []
          },
          "execution_count": 30
        }
      ]
    },
    {
      "cell_type": "code",
      "metadata": {
        "id": "EafJKM_ZfcnV"
      },
      "source": [
        "df = df.dropna()"
      ],
      "execution_count": null,
      "outputs": []
    },
    {
      "cell_type": "code",
      "metadata": {
        "id": "6CdeT4Cyfcnf"
      },
      "source": [
        "df[\"ChestPainx\"]= df.ChestPain.replace({\"typical\": 1, \"asymptomatic\": 2, \"nonanginal\": 3, \"nontypical\": 4})\n",
        "df[\"Thalx\"] = df.Thal.replace({\"fixed\": 1, \"normal\":2, \"reversable\":3})\n",
        "df[\"AHD\"] = df.AHD.replace({\"Yes\": 1, \"No\":0})"
      ],
      "execution_count": null,
      "outputs": []
    },
    {
      "cell_type": "code",
      "metadata": {
        "id": "n6M-tMfMfcno",
        "outputId": "217f5c30-1d9b-4137-ab3c-d00b3f5590ee",
        "colab": {
          "base_uri": "https://localhost:8080/",
          "height": 244
        }
      },
      "source": [
        "\n",
        "df.head()"
      ],
      "execution_count": null,
      "outputs": [
        {
          "output_type": "execute_result",
          "data": {
            "text/html": [
              "<div>\n",
              "<style scoped>\n",
              "    .dataframe tbody tr th:only-of-type {\n",
              "        vertical-align: middle;\n",
              "    }\n",
              "\n",
              "    .dataframe tbody tr th {\n",
              "        vertical-align: top;\n",
              "    }\n",
              "\n",
              "    .dataframe thead th {\n",
              "        text-align: right;\n",
              "    }\n",
              "</style>\n",
              "<table border=\"1\" class=\"dataframe\">\n",
              "  <thead>\n",
              "    <tr style=\"text-align: right;\">\n",
              "      <th></th>\n",
              "      <th>Unnamed: 0</th>\n",
              "      <th>Age</th>\n",
              "      <th>Sex</th>\n",
              "      <th>ChestPain</th>\n",
              "      <th>RestBP</th>\n",
              "      <th>Chol</th>\n",
              "      <th>Fbs</th>\n",
              "      <th>RestECG</th>\n",
              "      <th>MaxHR</th>\n",
              "      <th>ExAng</th>\n",
              "      <th>Oldpeak</th>\n",
              "      <th>Slope</th>\n",
              "      <th>Ca</th>\n",
              "      <th>Thal</th>\n",
              "      <th>AHD</th>\n",
              "      <th>ChestPainx</th>\n",
              "      <th>Thalx</th>\n",
              "    </tr>\n",
              "  </thead>\n",
              "  <tbody>\n",
              "    <tr>\n",
              "      <th>0</th>\n",
              "      <td>1</td>\n",
              "      <td>63</td>\n",
              "      <td>1</td>\n",
              "      <td>typical</td>\n",
              "      <td>145</td>\n",
              "      <td>233</td>\n",
              "      <td>1</td>\n",
              "      <td>2</td>\n",
              "      <td>150</td>\n",
              "      <td>0</td>\n",
              "      <td>2.3</td>\n",
              "      <td>3</td>\n",
              "      <td>0.0</td>\n",
              "      <td>fixed</td>\n",
              "      <td>0</td>\n",
              "      <td>1</td>\n",
              "      <td>1</td>\n",
              "    </tr>\n",
              "    <tr>\n",
              "      <th>1</th>\n",
              "      <td>2</td>\n",
              "      <td>67</td>\n",
              "      <td>1</td>\n",
              "      <td>asymptomatic</td>\n",
              "      <td>160</td>\n",
              "      <td>286</td>\n",
              "      <td>0</td>\n",
              "      <td>2</td>\n",
              "      <td>108</td>\n",
              "      <td>1</td>\n",
              "      <td>1.5</td>\n",
              "      <td>2</td>\n",
              "      <td>3.0</td>\n",
              "      <td>normal</td>\n",
              "      <td>1</td>\n",
              "      <td>2</td>\n",
              "      <td>2</td>\n",
              "    </tr>\n",
              "    <tr>\n",
              "      <th>2</th>\n",
              "      <td>3</td>\n",
              "      <td>67</td>\n",
              "      <td>1</td>\n",
              "      <td>asymptomatic</td>\n",
              "      <td>120</td>\n",
              "      <td>229</td>\n",
              "      <td>0</td>\n",
              "      <td>2</td>\n",
              "      <td>129</td>\n",
              "      <td>1</td>\n",
              "      <td>2.6</td>\n",
              "      <td>2</td>\n",
              "      <td>2.0</td>\n",
              "      <td>reversable</td>\n",
              "      <td>1</td>\n",
              "      <td>2</td>\n",
              "      <td>3</td>\n",
              "    </tr>\n",
              "    <tr>\n",
              "      <th>3</th>\n",
              "      <td>4</td>\n",
              "      <td>37</td>\n",
              "      <td>1</td>\n",
              "      <td>nonanginal</td>\n",
              "      <td>130</td>\n",
              "      <td>250</td>\n",
              "      <td>0</td>\n",
              "      <td>0</td>\n",
              "      <td>187</td>\n",
              "      <td>0</td>\n",
              "      <td>3.5</td>\n",
              "      <td>3</td>\n",
              "      <td>0.0</td>\n",
              "      <td>normal</td>\n",
              "      <td>0</td>\n",
              "      <td>3</td>\n",
              "      <td>2</td>\n",
              "    </tr>\n",
              "    <tr>\n",
              "      <th>4</th>\n",
              "      <td>5</td>\n",
              "      <td>41</td>\n",
              "      <td>0</td>\n",
              "      <td>nontypical</td>\n",
              "      <td>130</td>\n",
              "      <td>204</td>\n",
              "      <td>0</td>\n",
              "      <td>2</td>\n",
              "      <td>172</td>\n",
              "      <td>0</td>\n",
              "      <td>1.4</td>\n",
              "      <td>1</td>\n",
              "      <td>0.0</td>\n",
              "      <td>normal</td>\n",
              "      <td>0</td>\n",
              "      <td>4</td>\n",
              "      <td>2</td>\n",
              "    </tr>\n",
              "  </tbody>\n",
              "</table>\n",
              "</div>"
            ],
            "text/plain": [
              "   Unnamed: 0  Age  Sex     ChestPain  ...        Thal  AHD  ChestPainx  Thalx\n",
              "0           1   63    1       typical  ...       fixed    0           1      1\n",
              "1           2   67    1  asymptomatic  ...      normal    1           2      2\n",
              "2           3   67    1  asymptomatic  ...  reversable    1           2      3\n",
              "3           4   37    1    nonanginal  ...      normal    0           3      2\n",
              "4           5   41    0    nontypical  ...      normal    0           4      2\n",
              "\n",
              "[5 rows x 17 columns]"
            ]
          },
          "metadata": {
            "tags": []
          },
          "execution_count": 33
        }
      ]
    },
    {
      "cell_type": "code",
      "metadata": {
        "id": "U7ZShovJfcnt",
        "outputId": "7be3073a-ba2e-409b-f633-f0bab4e7220e",
        "colab": {
          "base_uri": "https://localhost:8080/",
          "height": 206
        }
      },
      "source": [
        "X = df.drop(columns=[\"Unnamed: 0\", \"ChestPain\", \"Thal\",\"AHD\"])\n",
        "\n",
        "X.head()"
      ],
      "execution_count": null,
      "outputs": [
        {
          "output_type": "execute_result",
          "data": {
            "text/html": [
              "<div>\n",
              "<style scoped>\n",
              "    .dataframe tbody tr th:only-of-type {\n",
              "        vertical-align: middle;\n",
              "    }\n",
              "\n",
              "    .dataframe tbody tr th {\n",
              "        vertical-align: top;\n",
              "    }\n",
              "\n",
              "    .dataframe thead th {\n",
              "        text-align: right;\n",
              "    }\n",
              "</style>\n",
              "<table border=\"1\" class=\"dataframe\">\n",
              "  <thead>\n",
              "    <tr style=\"text-align: right;\">\n",
              "      <th></th>\n",
              "      <th>Age</th>\n",
              "      <th>Sex</th>\n",
              "      <th>RestBP</th>\n",
              "      <th>Chol</th>\n",
              "      <th>Fbs</th>\n",
              "      <th>RestECG</th>\n",
              "      <th>MaxHR</th>\n",
              "      <th>ExAng</th>\n",
              "      <th>Oldpeak</th>\n",
              "      <th>Slope</th>\n",
              "      <th>Ca</th>\n",
              "      <th>ChestPainx</th>\n",
              "      <th>Thalx</th>\n",
              "    </tr>\n",
              "  </thead>\n",
              "  <tbody>\n",
              "    <tr>\n",
              "      <th>0</th>\n",
              "      <td>63</td>\n",
              "      <td>1</td>\n",
              "      <td>145</td>\n",
              "      <td>233</td>\n",
              "      <td>1</td>\n",
              "      <td>2</td>\n",
              "      <td>150</td>\n",
              "      <td>0</td>\n",
              "      <td>2.3</td>\n",
              "      <td>3</td>\n",
              "      <td>0.0</td>\n",
              "      <td>1</td>\n",
              "      <td>1</td>\n",
              "    </tr>\n",
              "    <tr>\n",
              "      <th>1</th>\n",
              "      <td>67</td>\n",
              "      <td>1</td>\n",
              "      <td>160</td>\n",
              "      <td>286</td>\n",
              "      <td>0</td>\n",
              "      <td>2</td>\n",
              "      <td>108</td>\n",
              "      <td>1</td>\n",
              "      <td>1.5</td>\n",
              "      <td>2</td>\n",
              "      <td>3.0</td>\n",
              "      <td>2</td>\n",
              "      <td>2</td>\n",
              "    </tr>\n",
              "    <tr>\n",
              "      <th>2</th>\n",
              "      <td>67</td>\n",
              "      <td>1</td>\n",
              "      <td>120</td>\n",
              "      <td>229</td>\n",
              "      <td>0</td>\n",
              "      <td>2</td>\n",
              "      <td>129</td>\n",
              "      <td>1</td>\n",
              "      <td>2.6</td>\n",
              "      <td>2</td>\n",
              "      <td>2.0</td>\n",
              "      <td>2</td>\n",
              "      <td>3</td>\n",
              "    </tr>\n",
              "    <tr>\n",
              "      <th>3</th>\n",
              "      <td>37</td>\n",
              "      <td>1</td>\n",
              "      <td>130</td>\n",
              "      <td>250</td>\n",
              "      <td>0</td>\n",
              "      <td>0</td>\n",
              "      <td>187</td>\n",
              "      <td>0</td>\n",
              "      <td>3.5</td>\n",
              "      <td>3</td>\n",
              "      <td>0.0</td>\n",
              "      <td>3</td>\n",
              "      <td>2</td>\n",
              "    </tr>\n",
              "    <tr>\n",
              "      <th>4</th>\n",
              "      <td>41</td>\n",
              "      <td>0</td>\n",
              "      <td>130</td>\n",
              "      <td>204</td>\n",
              "      <td>0</td>\n",
              "      <td>2</td>\n",
              "      <td>172</td>\n",
              "      <td>0</td>\n",
              "      <td>1.4</td>\n",
              "      <td>1</td>\n",
              "      <td>0.0</td>\n",
              "      <td>4</td>\n",
              "      <td>2</td>\n",
              "    </tr>\n",
              "  </tbody>\n",
              "</table>\n",
              "</div>"
            ],
            "text/plain": [
              "   Age  Sex  RestBP  Chol  Fbs  ...  Oldpeak  Slope   Ca  ChestPainx  Thalx\n",
              "0   63    1     145   233    1  ...      2.3      3  0.0           1      1\n",
              "1   67    1     160   286    0  ...      1.5      2  3.0           2      2\n",
              "2   67    1     120   229    0  ...      2.6      2  2.0           2      3\n",
              "3   37    1     130   250    0  ...      3.5      3  0.0           3      2\n",
              "4   41    0     130   204    0  ...      1.4      1  0.0           4      2\n",
              "\n",
              "[5 rows x 13 columns]"
            ]
          },
          "metadata": {
            "tags": []
          },
          "execution_count": 34
        }
      ]
    },
    {
      "cell_type": "code",
      "metadata": {
        "id": "T0BIS8LXfcn3"
      },
      "source": [
        "Y = np.array(df[\"AHD\"])\n"
      ],
      "execution_count": null,
      "outputs": []
    },
    {
      "cell_type": "code",
      "metadata": {
        "id": "rIO7hcsKopST",
        "outputId": "9d49fa9a-a194-442b-cd60-366d6e4ad085",
        "colab": {
          "base_uri": "https://localhost:8080/",
          "height": 182
        }
      },
      "source": [
        "print(Y)"
      ],
      "execution_count": null,
      "outputs": [
        {
          "output_type": "stream",
          "text": [
            "[0 1 1 0 0 0 1 0 1 1 0 0 1 0 0 0 1 0 0 0 0 0 1 1 1 0 0 0 0 1 0 1 1 0 0 0 1\n",
            " 1 1 0 1 0 0 0 1 1 0 1 0 0 0 0 1 0 1 1 1 1 0 0 1 0 1 0 1 1 1 0 1 1 0 1 1 1\n",
            " 1 0 1 0 0 1 0 0 0 1 0 0 0 0 0 0 1 0 0 0 1 1 1 0 0 0 0 0 0 1 0 1 1 1 1 1 1\n",
            " 0 1 1 0 0 0 1 1 1 1 0 1 1 0 1 1 0 0 0 0 0 0 0 0 1 1 1 0 0 1 0 1 0 1 1 0 0\n",
            " 0 0 0 0 1 1 1 1 1 1 0 0 1 0 0 0 0 0 1 0 1 0 1 0 1 1 0 1 0 0 1 1 0 0 1 0 0\n",
            " 1 1 1 0 1 1 0 1 0 0 0 1 0 0 0 0 0 1 1 1 0 1 0 1 0 1 1 0 0 0 0 0 0 0 0 1 1\n",
            " 0 0 0 1 1 0 1 1 0 0 1 1 1 0 0 0 0 0 1 0 1 1 1 1 0 0 1 0 0 0 0 0 0 0 1 0 1\n",
            " 0 0 1 1 1 1 0 1 0 1 0 1 0 0 0 1 0 1 0 1 0 1 1 1 0 0 1 0 1 1 1 0 1 1 1 1 1\n",
            " 1]\n"
          ],
          "name": "stdout"
        }
      ]
    },
    {
      "cell_type": "markdown",
      "metadata": {
        "id": "qVYvWGxdkv2f"
      },
      "source": [
        "\n",
        "## **split data into train and testing set with the help of scikit learn library** ##\n"
      ]
    },
    {
      "cell_type": "code",
      "metadata": {
        "id": "4jtqPZ-uiNh5",
        "outputId": "dcabe16f-b787-4995-f6a4-3c9bfd8bdcfc",
        "colab": {
          "base_uri": "https://localhost:8080/",
          "height": 274
        }
      },
      "source": [
        "from sklearn.model_selection import train_test_split\n",
        "X_train, X_test, Y_train, Y_test = train_test_split(X, Y, test_size = 0.33, random_state = 5)\n",
        "print(X_train.shape)\n",
        "print(X_test.shape)\n",
        "print(Y_train.shape)\n",
        "print(Y_test.shape)\n",
        "print(X_train.head(2))                                              # Standardizing Data \n",
        "print(X_train.head(2))"
      ],
      "execution_count": null,
      "outputs": [
        {
          "output_type": "stream",
          "text": [
            "(198, 13)\n",
            "(99, 13)\n",
            "(198,)\n",
            "(99,)\n",
            "     Age  Sex  RestBP  Chol  Fbs  ...  Oldpeak  Slope   Ca  ChestPainx  Thalx\n",
            "140   59    1     140   221    0  ...      0.0      1  0.0           4      2\n",
            "301   57    0     130   236    0  ...      0.0      2  1.0           4      2\n",
            "\n",
            "[2 rows x 13 columns]\n",
            "     Age  Sex  RestBP  Chol  Fbs  ...  Oldpeak  Slope   Ca  ChestPainx  Thalx\n",
            "140   59    1     140   221    0  ...      0.0      1  0.0           4      2\n",
            "301   57    0     130   236    0  ...      0.0      2  1.0           4      2\n",
            "\n",
            "[2 rows x 13 columns]\n"
          ],
          "name": "stdout"
        }
      ]
    },
    {
      "cell_type": "code",
      "metadata": {
        "id": "3wb3UgjsrDHU",
        "outputId": "596958ee-4b25-47da-a6db-5e251c2f10f9",
        "colab": {
          "base_uri": "https://localhost:8080/",
          "height": 127
        }
      },
      "source": [
        "print(Y_train)"
      ],
      "execution_count": null,
      "outputs": [
        {
          "output_type": "stream",
          "text": [
            "[0 1 0 0 1 0 1 0 0 1 0 1 0 1 1 0 0 1 1 0 1 0 0 1 0 0 1 0 1 1 0 0 0 0 0 0 0\n",
            " 0 0 0 1 1 0 1 0 1 0 1 1 0 0 0 0 0 0 0 0 0 1 0 1 0 0 1 1 0 1 0 0 0 0 0 0 0\n",
            " 0 1 1 0 1 0 0 0 0 0 0 1 0 1 1 0 1 1 0 0 0 0 0 1 1 0 0 1 0 0 0 0 0 0 1 1 1\n",
            " 1 0 0 0 0 0 1 1 1 1 1 1 1 1 0 1 1 1 0 0 1 1 1 1 1 0 0 1 1 0 0 0 0 1 1 0 0\n",
            " 0 0 0 0 0 0 0 1 1 1 1 1 0 1 1 1 1 0 1 1 0 1 1 1 0 1 0 0 1 0 0 1 1 0 1 0 0\n",
            " 1 1 0 1 0 1 0 1 1 1 1 1 1]\n"
          ],
          "name": "stdout"
        }
      ]
    },
    {
      "cell_type": "markdown",
      "metadata": {
        "id": "-DFwZ7uUlBna"
      },
      "source": [
        "## **Data Normalization** ##\n",
        "\n",
        "- scaling to a range\n",
        "\n",
        "  converting  feature values from their natural range (for example, 100 to 900) into a standard range—usually 0 and 1 (or sometimes -1 to +1). Use the following simple formula to scale to a range:\n",
        "  \n"
      ]
    },
    {
      "cell_type": "code",
      "metadata": {
        "id": "SslCEYU7iXp6"
      },
      "source": [
        "X_train_standardized = (X_train - X_train .mean()) / X_train.std()\n",
        "X_test_standardized  = (X_test - X_train.mean()) /  X_train.std()"
      ],
      "execution_count": null,
      "outputs": []
    },
    {
      "cell_type": "markdown",
      "metadata": {
        "id": "VCBFD1VfmJFc"
      },
      "source": [
        "## **introduction to multiple linear regression** ##\n",
        "\n",
        "---\n",
        "\n",
        "\n",
        "\n",
        "---\n",
        "\n",
        "\n",
        "\n",
        "Multiple Linear Regression is a type of Linear Regression when the input has multiple features(variables).\n",
        "\n",
        "Similar to Simple Linear Regression, we have input variable(X) and output variable(Y). But the input variable has nn features. Therefore, we can represent this linear model as follows;\n",
        "\n",
        "Y = β0​x0​+β1​x1​+β1​x2​+…+βn​xn​\n",
        "\n",
        "xi​ the ith feature in input variable. By introducing x0​=1, we can rewrite this equation.\n",
        "\n",
        "Y = β0​+β1​x1​+β1​x2​+…+βn​xn​\n",
        "\n"
      ]
    },
    {
      "cell_type": "code",
      "metadata": {
        "id": "OtrCfRBRwbnK"
      },
      "source": [
        "def y_predicted(w,x):\n",
        "    y_pred = np.zeros(len(x))\n",
        "    for i in range(0,len(x)):\n",
        "        for j in range(0,len(w)):\n",
        "            y_pred[i] = y_pred[i]+(w[j]*x[i][j] + w[-1])\n",
        "    return y_pred\n"
      ],
      "execution_count": null,
      "outputs": []
    },
    {
      "cell_type": "markdown",
      "metadata": {
        "id": "lO919_SGn48W"
      },
      "source": [
        "## **MSE Cost Function** ##\n",
        "\n",
        "The cost function J for a particular choice of parameters θ is the mean squared error (MSE):\n",
        "\n",
        "![mse_cost.PNG](data:image/png;base64,iVBORw0KGgoAAAANSUhEUgAAAWYAAABvCAYAAADfXmpqAAAAAXNSR0IArs4c6QAAAARnQU1BAACxjwv8YQUAAAAJcEhZcwAADsMAAA7DAcdvqGQAABGpSURBVHhe7Z0v7OxEG4WvQCAQkCAQCBIQCATiCgQCQQICgSABgUAgILkCgSCEBIEgBIFAQIJAIBAIxA1BIBAIBAKSKxCEIBAISBAIBKLw7LeHb+4w/7rbaWd3z5M09/663W63nTnzvmfedq9MxhhjhsLCbIwxg2FhNsaYwbAwG2PMYFiYjTFmMCzMxhgzGBZmY4wZDAuzMcYMhoXZGGMGw8JsjDGDYWE2xpjBsDAbY8xgWJiNMWYwLMwXwPvvvz/de++90x133DF99dVX02+//Ta9+uqr05UrV3brPvvss912b7311u5v1vMeY8w2WJjPnI8//nh68cUXd2KM4CK+jz322L8CzTr+Rqgl0BJxY8w2WJgvBIkwovvdd9/t1/7TAP5ZxyJRBoTawmzMdliYLwQiZEXMIoyYQ1j39NNP7/8yxqyNhflCQJAR3B9//HG/ZtpFyXG0LAG3x2zMdliYL4SUPZESa61DoI0x22BhvhAQ29iy4G885xDWsa0xZjvcAy8AJvsQ29BfBtbFXrLEGv+Zag5Hzsasj4X5AsAvRoRTXnIs1pTXsR5xDrc3xqyHhdkYYwbDwrwxWAaacDPGGLAabAiCrFugLczGGGE12AB8XDzcq1ev/lsFYWE2xgirwcpQM4wYq9pBk3AWZmOMsBpsjIXZGBNjNdiYJYRZ719zicvsjDHLYWHemCWEOZxAXGuxMBvTDwvzxiwhzOE+tCx9cwj7CwcAC7Mx/bAwb8xSHrPu7tOCiIYPJ1qC8FgtzOZc4REGPI6Ayim1dx5dED7HvDcW5o1ZSpiBxqN9sVCOtzTsk31bmM25QvsmsJEQq4/GD/zqiYV5Y5YUZu4iDEd5Fn4yakkQZPZrYTbnCu07tgLXfuqihXljlhRm0JPkwmVJv1nHa2E2l4SF+cJYWpihp9/MftinhdlcCuqjS2efJSzMG9NDmGENv3kuv/zyy/5/Y/Hrr7/u/7ccf/311/Thhx9O33zzzX5Nmk8++WT69ttv93+l4fjY3yXx+++/T2+++Wb1e7/99tvVdnXM9SUDJbBZu/9YmDemlzCv4Te3QMd65513pnvuuWd67rnn9mvH4L333pvuv//+6amnntqvWQau6QMPPDC99tprO4EJYbafa6EM5ocffpieeeaZ3TH88ccfu3Uxr7/++nTnnXfu9vfnn3/u154v77777k4IeaZMDG06nIT74osvpoceemh3jnKwL64Hg+AcQlGmP62JhXlD6JzqqCxL/wBqb7+5BpEMnYbPfeGFF7LCszYcx6OPPro7LkQxFs9j+P7776e77757JxgpYmERCMvDDz+cPEcMbrx+yy237AYSPuNc+eCDD6b77rsveU1ko9FnQjg/iOcbb7yxX3MzP//88/TEE0/s3vvss882ZR9bijJYmDcgfKJcbiHqWgL9IomWJf3mEggMjRox+fTTT/drt4fjQgA5Fx999NF+7XIgnDmBqPHII4/sBrAcWB5EzmQfo9pCx3Djxo1de6lZOykQ39tuu236/PPP92v+C5E4153spCTOyja3EmVYTZhJwUhpa55bDU5u6eSb/xJG5Sw0uN48//zzu8+6du3afs0YvPLKK7vjInJaGtolwnKop8lAceuttxYjeCJKjp+I/9xgUGLQPBSu6eOPP77/K40iZ2ysHMzPEMDEohw+FbI33YVZadjtt9++iwiOTcOIAIkYHnzwwen69ev7taYEDQwxpkFq6ek3M/giUHfddVdRZEJ/nWVpKycGP5fjoi32iDjp9DnBDAfHnJ1ENI8wM6FVQvbQObV/fXeCtxREsDp/uSiWzIzXuc45fvrpp93n0AZSbTNl/4XLsMJMh249WESZtIH0qyXKpcGG1QSICScqhugbsWebHunoOSLPTOeWpZffTOTC/qlKqCHfkCV1rZfkpZde2n1OrvMfC94yn5FDg2MpPSbgqEXzpPrs55jocjQYzPlOX3755X7NzXDOeL2U7SG6bFOb5GMSle16tYMlOChiDsWz1LnVEVpEWREF9bFcBEV5qZRCkPoQAdnaaGMNv5lBE6+P69I6qaZj6Q3CyWfhR/aAfZf8ZVLh1MRfCBE3mWUNssae32VtFO2WMmpejyf+Qmh7bFMT3FMY2A4SZt2WWxq95IXh6dVQFB6n17pRIpficiGIMBCCc5wM6UFvv1kdrLXRK3VksO8JVRJ8DmVTPUAg2X8pS+D1krAAJYVUJdSQhz9y1DcH6UVuoJHtlSqhC2GbUumcwGZj25LtsSUHCXMY3eZAMPFyUuU/ITrhRBJxZKzXSo0ZK6P1Ypi037zkXXyyMVorExTF9/aXJWQtgcIhKFrjpogUasu178nkFR5yDZ23c7Ez1I+xI1IoGKzZXWzT0vYok2zddgsOEmYZ8Tkb4+uvv969/uSTT+7X5FHpWGokZP+8xjY5NGnACNhSn2jSfnNunmAuZC/sr7X6RoN8b3+ZeQ4+J+dhLgETSi+//PL+r5tpFRYGzZZ+g03E/lh63Lm4NlyX0vVBA2p2lzzmlrkNtmHbpTPGpZgtzERcahA571dRUy3tUBqb25cac62CQCUwc+/suWQ06GkpefmtKJ1naRULOoY6HIOD5i9YV2s/rTBg67hyEZngHNDuNHDFbY82mwtMyBJzdxHqe5XgOBH30gRiiAbBpQbVY+F8KBvj/MWDkLIGLeHrWJGsy03ms79SgAbaP4FhDQ0EzDuMyGxhVocuTWJQZM82tU4gbznnL+r1WqqtCo05aWrcSOYstQZyKuj8LvW9NKnC0oIGea4/Isy/rAsH7CUmJxVJsdSsNdqa7AaJjASEY5Fgs8SCiN+LWGJrxHBueQ+QJaTEVD546w0WmgAc4QYezg3fkX81N5Tq17JgWOJAgInPXLbA9uyf9+jfGAa0Fn8e5rbVtZl9VOrMJd8Xa4Ftap1AkUcuMlJjjiOTGIrF2Q7fqBUL8/+Q+Gg5xuuVsGArtaBrwDHE51THkxKwuYTXeg4SGJ0TjpFj1YASQ3sn4k21ZwkSbT7Xnpn4m3PjiOqZmTgbCZ2f1DnStUjpBwMM2pHKtmR5cQ3iSBwYDIl+WydDw8F6xMqW2cIsscyJqVISyqVKMLLqxNSWWtSkSoCWSRNzM3EUWMtOSsi3I5JrQVYVnx9HQDqeVCeci9rH3LRVkTuiwLFKlEtwDvCz53Z2Sj4R9Tk3YFFWx/GNOPGtAT8eWHXNU31a9z3U7t5LobsGU9lKitDeas1Q1mS2MOvL5DqMJv5qnVMjZ84SabFMhPyiVkFYC45p6aUHyoJSvuAcmOFmPy11uKBBPh4MJIgcTwnep6yLf3PHrlKs1jQ3RPuec24QSvzm1g5PkEPbnZsdEGFzfFSctMC2hy5zUYQbZ2AIdinbJusgwOI7tdTBsw0WJvZpLUOP0XfrOSF8KLPOuMS01GF4EAnbMPqX0MiZ85d1YUsXUUiYD+l4PeGYll6WBrHherLvXBbUCmkk+6HztaDPjaNQpf2xvRFCu+D9EjPaUa5dzo3kQ2oZYg4CFKK/mtgi4nijh9Ths3+OrXWykG0PXeYiG4hBX0g/ahkw0SzXrCVyxpPm+TmtkXKIvtvJC3NNTIFRS1+4hPYVR0tCnbYlilDHO8cHu/QEQVTK2TIA1lAtaosAKipOibgG5VzbUNsJ24Y6faq9yPuuBQsxnJ857XBtZGWMWIur6xEOrvx/iXa2BGG54Yg3mcwSZgSZL5LrMEI1o6WqjJIwK2JqsTGAon62b03pQA3nkKUUyZ0SEkDEseadtqDMhcqEGrrGqY4qeyIlhpqbiIMDXc/Uew6dgee8KGKutfkt4C5Gjo3AZEQ4NmUxWJP8f4l2tgTh5F/rowPWZFZLbY0eFIVha+QoCXOpY6agqJ/t50QO6siHLOcgzBJGrmmrd1qDyEPnqIYGhdiDpOOW9iE/PK5sUOqcajNhfXWrZcDxcZ01EIx4zclMOLbcQ/m3RjrANaVPx9d6SzQXVitS2IpmYVbqyVJDT28qCaWEIRZmCXboTdXAW+Y9xz7r+VIIKzHmeqclwvSwVpWgThsLqQbMnBBqIi5Ggp0bZHRcpSyOz0TwEWU+Q14o/0995tYgKnynEasKQBm2Mo+RkL01WsGAaBZmCSknuQadkkbDzHQO+Xd0NDoAf0uUU+ltDsqLeI9L5dqRKM45z63oCW6lJ/6VouLYeybKkm2h6LW05FDaX3pMLO1R+wkjckX39AGOQZH0lqjdtzyPZivUn8NBbhRkf7bc/r4FzcKsxtkayWrGuFSXSSfUqMpCZ5wbwemuv1KHM/9HkSXnGoFcGj3qtfTLJYqKc4O82hodmv/rOPW+OMuS0Me+c4hK+UrPOtZnxm2Qdip7jWNO2SVro59JGlVYQCWvI1kYQhOno+pGszCrYeZSxRhsBSaBaMiUv/QAD5vPoIbxkHKZS0MdBfFpvY5z0QPPe5Qu5nxkZXOlQV3+NxPT58Doz4dhsEQzSoPlVpBhkGmMnG00CXMtwslBo8HSaK2znAMnlPSU1NnPYq5DKqlUfW5WMhd5/kuXISk1joUZa4HvVssAsNZ4f8tDbkaGQIeAJPdcjq3hOqAVLLVrsgXYbLSDkbONqjDTCWj0h0ZZ4XMsShMvc8C4R5R5JsOcW1gvGToJ16GHrxyjyd+lB2RF/KEwz0mX5SvWfrppdHQn40jfg8GRAZ8AgLbWMys7Fm5c4fz1DlCOISvMsc93zEnGcuD2UUb4ONqZC7dfIsh0shHrD0ekt68cw3XBMiBbKpVMzoVjpz1qnkNBQ+tgQ5alyclj2+FW6NySho90YwTXgfMqzRhVlE/luTrNHvMSYDkcK6Y0RvvJ7azhK6fQXYBL/8IG30fzHfw7d2IJe433knH1mvvoCQ/r4fhHutuPAZNjYmGQHK0CQ6AblMcRMIxeWruqMF8aNFh8UQlJWMtJGiV7gdeVVvEeGrciECZPDo1y1/SVU8jSQExGmmTRMz2wAk4l62IQoQIJUTl1K2YLKOHFwuD8ncIPaliYO4IQK6KTCJNCI7xar0oDRbSItNJs3s9rc6NCsaavnIOyLtJuIpWRHhbDbcxYa1gbo//KOjeQMHGJqGDlnWKkvyVca56TggV0/fr1/dqxsTCvhERWkyQCEWY9C6Ic2g2qQojrdluQr8w+D424lwL7ibrm0Z4bzGQ0t/P3qBpaEibQmaM59WqSraDwgOztlKq3LMwroeg1rusMhTm2G4h0DxFm+cosPXxl3RR0qhNoxoyOhXkFwsmReGIEMWY9kW2MxByhbSX0lQ+1QGpwrOx/60jcmHPFwrwCiooR2hhZDrGIhmI+RwBzkflSIPw6LmNMH9y7VkBesepvQySksS0gOyIl5jnW8JX1XViMMX1w71oBTfylStZyIieRTYl5it6+MqiChAW7xBjTBwvzCsjzjf3lksUhMW/xl0Nfea2F4zPG9MHC3BmiV4QsFWEqAk3VGUtoW6Jf2SFrLhZmY/phYe6Mqi5SQqays1T1hCofEGYia96f8o1De2HNxcJsTD8szJ2RV5yqRZb4puqBEXRFzQh4ahsIJ+PWXFq9b2PMfCzMxhgzGBZmY4wZDAvzmaEbQLZ8cJEx5jgszGeGJhtTNdPGmNPAwmyqUA3CJGOq5M8YszwWZlOEyFvVIyzGmP64p50J4cOF5jxfowS1ynjV7Fs3sRhj+uOedkboeRlL1RiHN7Qg0hZmY9bBPe2M0LM34ok/ra8tpbv5LMzGrId72hmhuwDjhyUtgYXZmPVwTzsjEM9elRMWZmPWwz3tjEA4U79cYivDmNPCPe1M0ONFUw9LWgILszHr4Z52JigqRpgR6SV/84/96Ul3uafcGWOWw8J8JlDaplpjao+X+M2/0iNFe0XmxhgLszHGDIeF2RhjBsPCbIwxg2FhNsaYwbAwG2PMYFiYjTFmMCzMxhgzGBZmY4wZDAuzMcYMhoXZGGMGw8JsjDGDYWE2xpjBsDAbY8xgWJiNMWYwLMzGGDMYFmZjjBkMC7MxxgyGhdkYYwbDwmyMMYNhYTbGmKGYpr8BkV78ofPojBcAAAAASUVORK5CYII=)\n",
        "\n",
        "![mse_cost2.PNG](data:image/png;base64,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)\n",
        "\n",
        "The MSE measures the average amount that the model’s predictions vary from the correct values, so you can think of it as a measure of the model’s performance on the training set. The cost is higher when the model is performing poorly on the training set. The objective of the learning algorithm, then, is to find the parameters θ which give the minimum possible cost J\n",
        "\n"
      ]
    },
    {
      "cell_type": "code",
      "metadata": {
        "id": "6Tgql0rFfcoI"
      },
      "source": [
        "def error_function(y_actual,y_predicted):\n",
        "    error = 0\n",
        "    for i in range(0,len(y_actual)):\n",
        "        error =  error + pow((y_actual[i] - y_predicted[i]),2)\n",
        "        return error/(2*len(y_actual))\n",
        "\n"
      ],
      "execution_count": null,
      "outputs": []
    },
    {
      "cell_type": "markdown",
      "metadata": {
        "id": "j3GPpeOcwMro"
      },
      "source": [
        "##**Gradient Descent - Multiple Variables Example** ##\n",
        "\n",
        "The MSE cost function includes multiple variables, so let’s look at one more simple minimization example before going back to the cost function.\n",
        "\n",
        "Let’s take the function:\n",
        "J(θ)=θ1^2+θ2^2\n",
        "\n",
        "When there are multiple variables in the minimization objective, gradient descent defines a separate update rule for each variable. The update rule for θ1\n",
        "uses the partial derivative of J with respect to θ1. A partial derivative just means that we hold all of the other variables constant–to take the partial derivative with respect to θ1, we just treat θ2 as a constant.\n",
        "\n",
        " The update rules are in the table below, as well as the math for calculating the partial derivatives. Make sure you work through those; I wrote out the derivation to make it easy to follow.\n",
        "\n",
        "![gredient decent.PNG](data:image/png;base64,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)"
      ]
    },
    {
      "cell_type": "markdown",
      "metadata": {
        "id": "QBL5VLmD1Kk_"
      },
      "source": [
        "\n",
        "## Learing Rate ## \n",
        "Pick a value for the learning rate α. The learning rate determines how big the step would be on each iteration.\n",
        "\n",
        "   - If α is very small, it would take long time to converge and become computationally expensive.\n",
        "   - If α is large, it may fail to converge and overshoot the minimum.\n",
        "\n",
        "![gredient decent2.PNG](data:image/png;base64,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)\n",
        "\n",
        "we are changing the values of βj​ in a direction in which it reduces our cost function. And Gradient gives the direction in which we want to move. Finally we will reach the minima of our cost function.\n",
        "\n",
        "From the above graph, Our aim is to iterate from starting point and working with iterations in such a way that we finally land up on the minimum point of graph.This is achieved by tuning our model with learning rate and number of iterations.\n"
      ]
    },
    {
      "cell_type": "code",
      "metadata": {
        "id": "9WAUgjTiwJXj"
      },
      "source": [
        "\n",
        "def gradient_descent(y_actual,y_pred,x):\n",
        "    grad = np.zeros(x.shape[1])\n",
        "\n",
        "    for i in range(x.shape[1]):\n",
        "        for j in range(0,len(y_actual)):\n",
        "            grad[i] = - (y_actual[j] - y_pred[j])*x[j][i] + grad[i]\n",
        "    return grad/len(y_actual)\n",
        "\n",
        "\n",
        "def weights(x_train,y_train,num_iterations,learning_rate):\n",
        "    no_of_rows = x_train.shape[0]\n",
        "    no_of_columns = x_train.shape[1]\n",
        "    new_x_train = np.ones((no_of_rows,no_of_columns+1))\n",
        "    print(new_x_train)\n",
        "    # add the new coloum as bias to training sample\n",
        "    new_x_train[:,0:no_of_columns] = x_train\n",
        "    print(new_x_train)\n",
        "    w = np.zeros(no_of_columns)\n",
        "    w =np.append(w,1)\n",
        "    print(w)\n",
        "\n",
        "    for i in range(0,num_iterations):\n",
        "        y_pred = y_predicted(w,new_x_train)\n",
        "        error = error_function(y_train,y_pred)\n",
        "        print(\"mean square error: \",error,\"after\",i,\"th iteration\")\n",
        "        MSE_points.append(error)\n",
        "        grad = gradient_descent(y_train,y_pred,new_x_train)\n",
        "        w = w - learning_rate*grad\n",
        "        learning_rate = learning_rate/1.05                                # Learning rate Decay \n",
        "    return w\n"
      ],
      "execution_count": null,
      "outputs": []
    },
    {
      "cell_type": "code",
      "metadata": {
        "id": "PSmaQYCoyTgA"
      },
      "source": [
        "def regression_test(x_test,w):\n",
        "    row = x_test.shape[0]\n",
        "    column = x_test.shape[1]\n",
        "    new_x_test = np.ones((row,column+1))\n",
        "    new_x_test[:,0:column] = x_test\n",
        "    y_pred = y_predicted(w,new_x_test)\n",
        "    return(y_pred)"
      ],
      "execution_count": null,
      "outputs": []
    },
    {
      "cell_type": "code",
      "metadata": {
        "id": "y6pnaGv0gQab",
        "outputId": "1d44deb4-65ba-44fd-a840-bd4035921d07",
        "colab": {
          "base_uri": "https://localhost:8080/",
          "height": 1000
        }
      },
      "source": [
        "MSE_points = []\n",
        "num_iterations = 300\n",
        "learning_rate = 0.1\n",
        "w = weights(X_train_standardized,Y_train,num_iterations,learning_rate)\n",
        "Y_pred = regression_test(X_test_standardized,w)\n",
        "error_function(Y_test,Y_pred)"
      ],
      "execution_count": null,
      "outputs": [
        {
          "output_type": "stream",
          "text": [
            "[[1. 1. 1. ... 1. 1. 1.]\n",
            " [1. 1. 1. ... 1. 1. 1.]\n",
            " [1. 1. 1. ... 1. 1. 1.]\n",
            " ...\n",
            " [1. 1. 1. ... 1. 1. 1.]\n",
            " [1. 1. 1. ... 1. 1. 1.]\n",
            " [1. 1. 1. ... 1. 1. 1.]]\n",
            "[[ 0.54994496  0.67348342  0.51615413 ...  1.65000671 -0.56015742\n",
            "   1.        ]\n",
            " [ 0.32749531 -1.47731847 -0.08114872 ...  1.65000671 -0.56015742\n",
            "   1.        ]\n",
            " [-0.00617916  0.67348342  0.51615413 ... -0.61875252 -0.56015742\n",
            "   1.        ]\n",
            " ...\n",
            " [ 1.2172939   0.67348342  0.2175027  ... -0.61875252  1.14616827\n",
            "   1.        ]\n",
            " [-0.33985363  0.67348342  0.51615413 ... -0.61875252  1.14616827\n",
            "   1.        ]\n",
            " [ 0.88361943 -1.47731847  1.11345697 ... -0.61875252 -0.56015742\n",
            "   1.        ]]\n",
            "[0. 0. 0. 0. 0. 0. 0. 0. 0. 0. 0. 0. 0. 1.]\n",
            "mean square error:  0.5681818181818182 after 0 th iteration\n",
            "mean square error:  0.12017506120611351 after 1 th iteration\n",
            "mean square error:  0.02999945856203016 after 2 th iteration\n",
            "mean square error:  0.0017304035394187208 after 3 th iteration\n",
            "mean square error:  0.0009291434851528164 after 4 th iteration\n",
            "mean square error:  8.242330567190315e-05 after 5 th iteration\n",
            "mean square error:  0.00017197371195310158 after 6 th iteration\n",
            "mean square error:  0.00014253410147810385 after 7 th iteration\n",
            "mean square error:  0.0001374581187734544 after 8 th iteration\n",
            "mean square error:  0.00013206363608666029 after 9 th iteration\n",
            "mean square error:  0.00012811175213701723 after 10 th iteration\n",
            "mean square error:  0.00012508631260795908 after 11 th iteration\n",
            "mean square error:  0.00012273030475780505 after 12 th iteration\n",
            "mean square error:  0.00012086574593047738 after 13 th iteration\n",
            "mean square error:  0.00011936781856851562 after 14 th iteration\n",
            "mean square error:  0.0001181475215564942 after 15 th iteration\n",
            "mean square error:  0.00011714041430894843 after 16 th iteration\n",
            "mean square error:  0.00011629917781977313 after 17 th iteration\n",
            "mean square error:  0.00011558860871153615 after 18 th iteration\n",
            "mean square error:  0.0001149821950179712 after 19 th iteration\n",
            "mean square error:  0.00011445973895797873 after 20 th iteration\n",
            "mean square error:  0.0001140056840978617 after 21 th iteration\n",
            "mean square error:  0.00011360792344555053 after 22 th iteration\n",
            "mean square error:  0.00011325694035880608 after 23 th iteration\n",
            "mean square error:  0.00011294518263524022 after 24 th iteration\n",
            "mean square error:  0.00011266660186042803 after 25 th iteration\n",
            "mean square error:  0.00011241631113202564 after 26 th iteration\n",
            "mean square error:  0.00011219032842916697 after 27 th iteration\n",
            "mean square error:  0.00011198538253187132 after 28 th iteration\n",
            "mean square error:  0.00011179876503117514 after 29 th iteration\n",
            "mean square error:  0.00011162821658976038 after 30 th iteration\n",
            "mean square error:  0.00011147183886012475 after 31 th iteration\n",
            "mean square error:  0.0001113280257716259 after 32 th iteration\n",
            "mean square error:  0.00011119540954734295 after 33 th iteration\n",
            "mean square error:  0.00011107281800251068 after 34 th iteration\n",
            "mean square error:  0.00011095924054273764 after 35 th iteration\n",
            "mean square error:  0.00011085380091544332 after 36 th iteration\n",
            "mean square error:  0.00011075573523701455 after 37 th iteration\n",
            "mean square error:  0.00011066437416695807 after 38 th iteration\n",
            "mean square error:  0.00011057912836137997 after 39 th iteration\n",
            "mean square error:  0.0001104994765347709 after 40 th iteration\n",
            "mean square error:  0.00011042495560812156 after 41 th iteration\n",
            "mean square error:  0.00011035515253502984 after 42 th iteration\n",
            "mean square error:  0.00011028969748460074 after 43 th iteration\n",
            "mean square error:  0.00011022825812713458 after 44 th iteration\n",
            "mean square error:  0.0001101705348206913 after 45 th iteration\n",
            "mean square error:  0.00011011625653721523 after 46 th iteration\n",
            "mean square error:  0.00011006517739870587 after 47 th iteration\n",
            "mean square error:  0.00011001707371895017 after 48 th iteration\n",
            "mean square error:  0.00010997174146613599 after 49 th iteration\n",
            "mean square error:  0.00010992899407739331 after 50 th iteration\n",
            "mean square error:  0.00010988866056888039 after 51 th iteration\n",
            "mean square error:  0.00010985058389509742 after 52 th iteration\n",
            "mean square error:  0.0001098146195192268 after 53 th iteration\n",
            "mean square error:  0.00010978063416286092 after 54 th iteration\n",
            "mean square error:  0.00010974850470880363 after 55 th iteration\n",
            "mean square error:  0.00010971811723498158 after 56 th iteration\n",
            "mean square error:  0.00010968936616105871 after 57 th iteration\n",
            "mean square error:  0.0001096621534922674 after 58 th iteration\n",
            "mean square error:  0.00010963638814738704 after 59 th iteration\n",
            "mean square error:  0.00010961198535979501 after 60 th iteration\n",
            "mean square error:  0.00010958886614217657 after 61 th iteration\n",
            "mean square error:  0.00010956695680686279 after 62 th iteration\n",
            "mean square error:  0.00010954618853492514 after 63 th iteration\n",
            "mean square error:  0.00010952649698812852 after 64 th iteration\n",
            "mean square error:  0.000109507821958661 after 65 th iteration\n",
            "mean square error:  0.00010949010705225497 after 66 th iteration\n",
            "mean square error:  0.00010947329940089801 after 67 th iteration\n",
            "mean square error:  0.00010945734940183141 after 68 th iteration\n",
            "mean square error:  0.00010944221047996226 after 69 th iteration\n",
            "mean square error:  0.00010942783887117563 after 70 th iteration\n",
            "mean square error:  0.00010941419342434839 after 71 th iteration\n",
            "mean square error:  0.00010940123542013296 after 72 th iteration\n",
            "mean square error:  0.00010938892840481259 after 73 th iteration\n",
            "mean square error:  0.00010937723803772844 after 74 th iteration\n",
            "mean square error:  0.0001093661319509526 after 75 th iteration\n",
            "mean square error:  0.00010935557962003381 after 76 th iteration\n",
            "mean square error:  0.00010934555224477192 after 77 th iteration\n",
            "mean square error:  0.0001093360226390922 after 78 th iteration\n",
            "mean square error:  0.00010932696512919319 after 79 th iteration\n",
            "mean square error:  0.0001093183554592257 after 80 th iteration\n",
            "mean square error:  0.00010931017070384384 after 81 th iteration\n",
            "mean square error:  0.00010930238918703077 after 82 th iteration\n",
            "mean square error:  0.00010929499040666665 after 83 th iteration\n",
            "mean square error:  0.0001092879549643586 after 84 th iteration\n",
            "mean square error:  0.00010928126450009769 after 85 th iteration\n",
            "mean square error:  0.00010927490163135172 after 86 th iteration\n",
            "mean square error:  0.00010926884989624045 after 87 th iteration\n",
            "mean square error:  0.00010926309370047028 after 88 th iteration\n",
            "mean square error:  0.0001092576182677386 after 89 th iteration\n",
            "mean square error:  0.00010925240959334115 after 90 th iteration\n",
            "mean square error:  0.00010924745440074233 after 91 th iteration\n",
            "mean square error:  0.0001092427401008876 after 92 th iteration\n",
            "mean square error:  0.0001092382547540576 after 93 th iteration\n",
            "mean square error:  0.00010923398703407984 after 94 th iteration\n",
            "mean square error:  0.00010922992619473027 after 95 th iteration\n",
            "mean square error:  0.0001092260620381709 after 96 th iteration\n",
            "mean square error:  0.0001092223848852798 after 97 th iteration\n",
            "mean square error:  0.00010921888554774751 after 98 th iteration\n",
            "mean square error:  0.00010921555530181593 after 99 th iteration\n",
            "mean square error:  0.0001092123858635526 after 100 th iteration\n",
            "mean square error:  0.00010920936936555736 after 101 th iteration\n",
            "mean square error:  0.0001092064983350074 after 102 th iteration\n",
            "mean square error:  0.00010920376567295546 after 103 th iteration\n",
            "mean square error:  0.00010920116463479889 after 104 th iteration\n",
            "mean square error:  0.000109198688811847 after 105 th iteration\n",
            "mean square error:  0.00010919633211391755 after 106 th iteration\n",
            "mean square error:  0.00010919408875289717 after 107 th iteration\n",
            "mean square error:  0.00010919195322720818 after 108 th iteration\n",
            "mean square error:  0.00010918992030712584 after 109 th iteration\n",
            "mean square error:  0.00010918798502089375 after 110 th iteration\n",
            "mean square error:  0.00010918614264159195 after 111 th iteration\n",
            "mean square error:  0.00010918438867471038 after 112 th iteration\n",
            "mean square error:  0.00010918271884638835 after 113 th iteration\n",
            "mean square error:  0.00010918112909228025 after 114 th iteration\n",
            "mean square error:  0.00010917961554701057 after 115 th iteration\n",
            "mean square error:  0.00010917817453418684 after 116 th iteration\n",
            "mean square error:  0.00010917680255693481 after 117 th iteration\n",
            "mean square error:  0.00010917549628893091 after 118 th iteration\n",
            "mean square error:  0.00010917425256589976 after 119 th iteration\n",
            "mean square error:  0.0001091730683775534 after 120 th iteration\n",
            "mean square error:  0.00010917194085994722 after 121 th iteration\n",
            "mean square error:  0.00010917086728822935 after 122 th iteration\n",
            "mean square error:  0.00010916984506976125 after 123 th iteration\n",
            "mean square error:  0.00010916887173759149 after 124 th iteration\n",
            "mean square error:  0.0001091679449442605 after 125 th iteration\n",
            "mean square error:  0.00010916706245592144 after 126 th iteration\n",
            "mean square error:  0.00010916622214675842 after 127 th iteration\n",
            "mean square error:  0.00010916542199368612 after 128 th iteration\n",
            "mean square error:  0.00010916466007131752 after 129 th iteration\n",
            "mean square error:  0.00010916393454718394 after 130 th iteration\n",
            "mean square error:  0.00010916324367719463 after 131 th iteration\n",
            "mean square error:  0.00010916258580132407 after 132 th iteration\n",
            "mean square error:  0.00010916195933951323 after 133 th iteration\n",
            "mean square error:  0.00010916136278777617 after 134 th iteration\n",
            "mean square error:  0.00010916079471449979 after 135 th iteration\n",
            "mean square error:  0.00010916025375692661 after 136 th iteration\n",
            "mean square error:  0.00010915973861781192 after 137 th iteration\n",
            "mean square error:  0.00010915924806224683 after 138 th iteration\n",
            "mean square error:  0.00010915878091463642 after 139 th iteration\n",
            "mean square error:  0.00010915833605582847 after 140 th iteration\n",
            "mean square error:  0.00010915791242038241 after 141 th iteration\n",
            "mean square error:  0.00010915750899397213 after 142 th iteration\n",
            "mean square error:  0.00010915712481091669 after 143 th iteration\n",
            "mean square error:  0.00010915675895183227 after 144 th iteration\n",
            "mean square error:  0.00010915641054139775 after 145 th iteration\n",
            "mean square error:  0.00010915607874623037 after 146 th iteration\n",
            "mean square error:  0.00010915576277286491 after 147 th iteration\n",
            "mean square error:  0.00010915546186583091 after 148 th iteration\n",
            "mean square error:  0.00010915517530582366 after 149 th iteration\n",
            "mean square error:  0.00010915490240796447 after 150 th iteration\n",
            "mean square error:  0.00010915464252014536 after 151 th iteration\n",
            "mean square error:  0.00010915439502145295 after 152 th iteration\n",
            "mean square error:  0.00010915415932067114 after 153 th iteration\n",
            "mean square error:  0.00010915393485485349 after 154 th iteration\n",
            "mean square error:  0.00010915372108796708 after 155 th iteration\n",
            "mean square error:  0.00010915351750960055 after 156 th iteration\n",
            "mean square error:  0.00010915332363373543 after 157 th iteration\n",
            "mean square error:  0.00010915313899757627 after 158 th iteration\n",
            "mean square error:  0.00010915296316043682 after 159 th iteration\n",
            "mean square error:  0.00010915279570268157 after 160 th iteration\n",
            "mean square error:  0.00010915263622471664 after 161 th iteration\n",
            "mean square error:  0.00010915248434602981 after 162 th iteration\n",
            "mean square error:  0.00010915233970427726 after 163 th iteration\n",
            "mean square error:  0.00010915220195441363 after 164 th iteration\n",
            "mean square error:  0.00010915207076786427 after 165 th iteration\n",
            "mean square error:  0.00010915194583173714 after 166 th iteration\n",
            "mean square error:  0.00010915182684807285 after 167 th iteration\n",
            "mean square error:  0.00010915171353313014 after 168 th iteration\n",
            "mean square error:  0.00010915160561670632 after 169 th iteration\n",
            "mean square error:  0.00010915150284149029 after 170 th iteration\n",
            "mean square error:  0.00010915140496244564 after 171 th iteration\n",
            "mean square error:  0.00010915131174622494 after 172 th iteration\n",
            "mean square error:  0.00010915122297061053 after 173 th iteration\n",
            "mean square error:  0.0001091511384239834 after 174 th iteration\n",
            "mean square error:  0.00010915105790481633 after 175 th iteration\n",
            "mean square error:  0.00010915098122119262 after 176 th iteration\n",
            "mean square error:  0.00010915090819034664 after 177 th iteration\n",
            "mean square error:  0.0001091508386382273 after 178 th iteration\n",
            "mean square error:  0.00010915077239908149 after 179 th iteration\n",
            "mean square error:  0.0001091507093150587 after 180 th iteration\n",
            "mean square error:  0.00010915064923583326 after 181 th iteration\n",
            "mean square error:  0.00010915059201824546 after 182 th iteration\n",
            "mean square error:  0.00010915053752595988 after 183 th iteration\n",
            "mean square error:  0.00010915048562913911 after 184 th iteration\n",
            "mean square error:  0.00010915043620413448 after 185 th iteration\n",
            "mean square error:  0.00010915038913319027 after 186 th iteration\n",
            "mean square error:  0.00010915034430416296 after 187 th iteration\n",
            "mean square error:  0.0001091503016102533 after 188 th iteration\n",
            "mean square error:  0.00010915026094975174 after 189 th iteration\n",
            "mean square error:  0.00010915022222579522 after 190 th iteration\n",
            "mean square error:  0.00010915018534613674 after 191 th iteration\n",
            "mean square error:  0.00010915015022292458 after 192 th iteration\n",
            "mean square error:  0.00010915011677249324 after 193 th iteration\n",
            "mean square error:  0.00010915008491516333 after 194 th iteration\n",
            "mean square error:  0.00010915005457505235 after 195 th iteration\n",
            "mean square error:  0.00010915002567989273 after 196 th iteration\n",
            "mean square error:  0.00010914999816086006 after 197 th iteration\n",
            "mean square error:  0.00010914997195240915 after 198 th iteration\n",
            "mean square error:  0.00010914994699211706 after 199 th iteration\n",
            "mean square error:  0.00010914992322053494 after 200 th iteration\n",
            "mean square error:  0.00010914990058104605 after 201 th iteration\n",
            "mean square error:  0.00010914987901973063 after 202 th iteration\n",
            "mean square error:  0.0001091498584852375 after 203 th iteration\n",
            "mean square error:  0.00010914983892866172 after 204 th iteration\n",
            "mean square error:  0.00010914982030342803 after 205 th iteration\n",
            "mean square error:  0.0001091498025651796 after 206 th iteration\n",
            "mean square error:  0.00010914978567167257 after 207 th iteration\n",
            "mean square error:  0.0001091497695826754 after 208 th iteration\n",
            "mean square error:  0.00010914975425987286 after 209 th iteration\n",
            "mean square error:  0.00010914973966677443 after 210 th iteration\n",
            "mean square error:  0.00010914972576862812 after 211 th iteration\n",
            "mean square error:  0.00010914971253233699 after 212 th iteration\n",
            "mean square error:  0.00010914969992638041 after 213 th iteration\n",
            "mean square error:  0.00010914968792073925 after 214 th iteration\n",
            "mean square error:  0.00010914967648682426 after 215 th iteration\n",
            "mean square error:  0.00010914966559740747 after 216 th iteration\n",
            "mean square error:  0.00010914965522655801 after 217 th iteration\n",
            "mean square error:  0.00010914964534958014 after 218 th iteration\n",
            "mean square error:  0.00010914963594295404 after 219 th iteration\n",
            "mean square error:  0.00010914962698428023 after 220 th iteration\n",
            "mean square error:  0.00010914961845222595 after 221 th iteration\n",
            "mean square error:  0.0001091496103264746 after 222 th iteration\n",
            "mean square error:  0.00010914960258767702 after 223 th iteration\n",
            "mean square error:  0.00010914959521740554 after 224 th iteration\n",
            "mean square error:  0.0001091495881981102 after 225 th iteration\n",
            "mean square error:  0.00010914958151307694 after 226 th iteration\n",
            "mean square error:  0.00010914957514638754 after 227 th iteration\n",
            "mean square error:  0.00010914956908288195 after 228 th iteration\n",
            "mean square error:  0.00010914956330812203 after 229 th iteration\n",
            "mean square error:  0.00010914955780835741 after 230 th iteration\n",
            "mean square error:  0.00010914955257049231 after 231 th iteration\n",
            "mean square error:  0.0001091495475820549 after 232 th iteration\n",
            "mean square error:  0.00010914954283116714 after 233 th iteration\n",
            "mean square error:  0.00010914953830651654 after 234 th iteration\n",
            "mean square error:  0.00010914953399732968 after 235 th iteration\n",
            "mean square error:  0.00010914952989334588 after 236 th iteration\n",
            "mean square error:  0.00010914952598479327 after 237 th iteration\n",
            "mean square error:  0.00010914952226236521 after 238 th iteration\n",
            "mean square error:  0.00010914951871719841 after 239 th iteration\n",
            "mean square error:  0.00010914951534085161 after 240 th iteration\n",
            "mean square error:  0.00010914951212528556 after 241 th iteration\n",
            "mean square error:  0.00010914950906284375 after 242 th iteration\n",
            "mean square error:  0.00010914950614623431 after 243 th iteration\n",
            "mean square error:  0.00010914950336851288 after 244 th iteration\n",
            "mean square error:  0.00010914950072306533 after 245 th iteration\n",
            "mean square error:  0.00010914949820359286 after 246 th iteration\n",
            "mean square error:  0.00010914949580409654 after 247 th iteration\n",
            "mean square error:  0.00010914949351886314 after 248 th iteration\n",
            "mean square error:  0.00010914949134245142 after 249 th iteration\n",
            "mean square error:  0.00010914948926967928 after 250 th iteration\n",
            "mean square error:  0.00010914948729561149 after 251 th iteration\n",
            "mean square error:  0.00010914948541554757 after 252 th iteration\n",
            "mean square error:  0.0001091494836250113 after 253 th iteration\n",
            "mean square error:  0.0001091494819197394 after 254 th iteration\n",
            "mean square error:  0.00010914948029567142 after 255 th iteration\n",
            "mean square error:  0.00010914947874894051 after 256 th iteration\n",
            "mean square error:  0.00010914947727586401 after 257 th iteration\n",
            "mean square error:  0.00010914947587293446 after 258 th iteration\n",
            "mean square error:  0.0001091494745368114 after 259 th iteration\n",
            "mean square error:  0.00010914947326431354 after 260 th iteration\n",
            "mean square error:  0.00010914947205241123 after 261 th iteration\n",
            "mean square error:  0.0001091494708982188 after 262 th iteration\n",
            "mean square error:  0.00010914946979898832 after 263 th iteration\n",
            "mean square error:  0.00010914946875210216 after 264 th iteration\n",
            "mean square error:  0.00010914946775506807 after 265 th iteration\n",
            "mean square error:  0.00010914946680551194 after 266 th iteration\n",
            "mean square error:  0.00010914946590117297 after 267 th iteration\n",
            "mean square error:  0.00010914946503989808 after 268 th iteration\n",
            "mean square error:  0.00010914946421963633 after 269 th iteration\n",
            "mean square error:  0.00010914946343843469 after 270 th iteration\n",
            "mean square error:  0.00010914946269443333 after 271 th iteration\n",
            "mean square error:  0.00010914946198586072 after 272 th iteration\n",
            "mean square error:  0.00010914946131102976 after 273 th iteration\n",
            "mean square error:  0.00010914946066833373 after 274 th iteration\n",
            "mean square error:  0.00010914946005624234 after 275 th iteration\n",
            "mean square error:  0.00010914945947329815 after 276 th iteration\n",
            "mean square error:  0.00010914945891811343 after 277 th iteration\n",
            "mean square error:  0.000109149458389366 after 278 th iteration\n",
            "mean square error:  0.0001091494578857971 after 279 th iteration\n",
            "mean square error:  0.00010914945740620781 after 280 th iteration\n",
            "mean square error:  0.00010914945694945606 after 281 th iteration\n",
            "mean square error:  0.00010914945651445445 after 282 th iteration\n",
            "mean square error:  0.00010914945610016727 after 283 th iteration\n",
            "mean square error:  0.00010914945570560804 after 284 th iteration\n",
            "mean square error:  0.00010914945532983739 after 285 th iteration\n",
            "mean square error:  0.00010914945497196064 after 286 th iteration\n",
            "mean square error:  0.00010914945463112568 after 287 th iteration\n",
            "mean square error:  0.00010914945430652095 after 288 th iteration\n",
            "mean square error:  0.00010914945399737361 after 289 th iteration\n",
            "mean square error:  0.00010914945370294755 after 290 th iteration\n",
            "mean square error:  0.00010914945342254198 after 291 th iteration\n",
            "mean square error:  0.00010914945315548884 after 292 th iteration\n",
            "mean square error:  0.00010914945290115256 after 293 th iteration\n",
            "mean square error:  0.00010914945265892764 after 294 th iteration\n",
            "mean square error:  0.00010914945242823723 after 295 th iteration\n",
            "mean square error:  0.00010914945220853201 after 296 th iteration\n",
            "mean square error:  0.000109149451999289 after 297 th iteration\n",
            "mean square error:  0.00010914945180001 after 298 th iteration\n",
            "mean square error:  0.00010914945161022039 after 299 th iteration\n"
          ],
          "name": "stdout"
        },
        {
          "output_type": "execute_result",
          "data": {
            "text/plain": [
              "0.001218502888511276"
            ]
          },
          "metadata": {
            "tags": []
          },
          "execution_count": 44
        }
      ]
    },
    {
      "cell_type": "code",
      "metadata": {
        "id": "DG07Sd1ZvbTb",
        "outputId": "0fb8c1be-8a47-4eda-a757-8b8cbd376cb8",
        "colab": {
          "base_uri": "https://localhost:8080/",
          "height": 606
        }
      },
      "source": [
        "import seaborn as sns\n",
        "plt.figure(figsize=(10,10))\n",
        "plt.plot(range(0,300 ), MSE_points)\n",
        "plt.xlabel('MSE')\n",
        "plt.show()\n",
        "# sns.lineplot(MSE_points)"
      ],
      "execution_count": null,
      "outputs": [
        {
          "output_type": "display_data",
          "data": {
            "image/png": "[encoded data removed]",
            "text/plain": [
              "<Figure size 720x720 with 1 Axes>"
            ]
          },
          "metadata": {
            "tags": [],
            "needs_background": "light"
          }
        }
      ]
    },
    {
      "cell_type": "code",
      "metadata": {
        "id": "KqU-pME5vd7H",
        "outputId": "2b8f400e-ff09-4f1b-8693-7e02dff6441c",
        "colab": {
          "base_uri": "https://localhost:8080/",
          "height": 677
        }
      },
      "source": [
        "pred_df = pd.DataFrame(\n",
        "    {\n",
        "        'Actual Value' : Y_test, \n",
        "     'Predicted Values' : Y_pred,\n",
        "    }\n",
        ")\n",
        "pred_df.head(20)"
      ],
      "execution_count": null,
      "outputs": [
        {
          "output_type": "execute_result",
          "data": {
            "text/html": [
              "<div>\n",
              "<style scoped>\n",
              "    .dataframe tbody tr th:only-of-type {\n",
              "        vertical-align: middle;\n",
              "    }\n",
              "\n",
              "    .dataframe tbody tr th {\n",
              "        vertical-align: top;\n",
              "    }\n",
              "\n",
              "    .dataframe thead th {\n",
              "        text-align: right;\n",
              "    }\n",
              "</style>\n",
              "<table border=\"1\" class=\"dataframe\">\n",
              "  <thead>\n",
              "    <tr style=\"text-align: right;\">\n",
              "      <th></th>\n",
              "      <th>Actual Value</th>\n",
              "      <th>Predicted Values</th>\n",
              "    </tr>\n",
              "  </thead>\n",
              "  <tbody>\n",
              "    <tr>\n",
              "      <th>0</th>\n",
              "      <td>1</td>\n",
              "      <td>0.508814</td>\n",
              "    </tr>\n",
              "    <tr>\n",
              "      <th>1</th>\n",
              "      <td>1</td>\n",
              "      <td>1.227339</td>\n",
              "    </tr>\n",
              "    <tr>\n",
              "      <th>2</th>\n",
              "      <td>0</td>\n",
              "      <td>0.296826</td>\n",
              "    </tr>\n",
              "    <tr>\n",
              "      <th>3</th>\n",
              "      <td>1</td>\n",
              "      <td>1.105668</td>\n",
              "    </tr>\n",
              "    <tr>\n",
              "      <th>4</th>\n",
              "      <td>1</td>\n",
              "      <td>0.437948</td>\n",
              "    </tr>\n",
              "    <tr>\n",
              "      <th>5</th>\n",
              "      <td>0</td>\n",
              "      <td>0.930793</td>\n",
              "    </tr>\n",
              "    <tr>\n",
              "      <th>6</th>\n",
              "      <td>0</td>\n",
              "      <td>0.223461</td>\n",
              "    </tr>\n",
              "    <tr>\n",
              "      <th>7</th>\n",
              "      <td>0</td>\n",
              "      <td>0.238489</td>\n",
              "    </tr>\n",
              "    <tr>\n",
              "      <th>8</th>\n",
              "      <td>1</td>\n",
              "      <td>0.735502</td>\n",
              "    </tr>\n",
              "    <tr>\n",
              "      <th>9</th>\n",
              "      <td>0</td>\n",
              "      <td>0.876715</td>\n",
              "    </tr>\n",
              "    <tr>\n",
              "      <th>10</th>\n",
              "      <td>1</td>\n",
              "      <td>0.457358</td>\n",
              "    </tr>\n",
              "    <tr>\n",
              "      <th>11</th>\n",
              "      <td>1</td>\n",
              "      <td>0.763670</td>\n",
              "    </tr>\n",
              "    <tr>\n",
              "      <th>12</th>\n",
              "      <td>0</td>\n",
              "      <td>-0.063541</td>\n",
              "    </tr>\n",
              "    <tr>\n",
              "      <th>13</th>\n",
              "      <td>1</td>\n",
              "      <td>1.233225</td>\n",
              "    </tr>\n",
              "    <tr>\n",
              "      <th>14</th>\n",
              "      <td>0</td>\n",
              "      <td>0.007694</td>\n",
              "    </tr>\n",
              "    <tr>\n",
              "      <th>15</th>\n",
              "      <td>0</td>\n",
              "      <td>0.171476</td>\n",
              "    </tr>\n",
              "    <tr>\n",
              "      <th>16</th>\n",
              "      <td>1</td>\n",
              "      <td>0.398768</td>\n",
              "    </tr>\n",
              "    <tr>\n",
              "      <th>17</th>\n",
              "      <td>0</td>\n",
              "      <td>0.317505</td>\n",
              "    </tr>\n",
              "    <tr>\n",
              "      <th>18</th>\n",
              "      <td>1</td>\n",
              "      <td>0.964553</td>\n",
              "    </tr>\n",
              "    <tr>\n",
              "      <th>19</th>\n",
              "      <td>1</td>\n",
              "      <td>0.277134</td>\n",
              "    </tr>\n",
              "  </tbody>\n",
              "</table>\n",
              "</div>"
            ],
            "text/plain": [
              "    Actual Value  Predicted Values\n",
              "0              1          0.508814\n",
              "1              1          1.227339\n",
              "2              0          0.296826\n",
              "3              1          1.105668\n",
              "4              1          0.437948\n",
              "5              0          0.930793\n",
              "6              0          0.223461\n",
              "7              0          0.238489\n",
              "8              1          0.735502\n",
              "9              0          0.876715\n",
              "10             1          0.457358\n",
              "11             1          0.763670\n",
              "12             0         -0.063541\n",
              "13             1          1.233225\n",
              "14             0          0.007694\n",
              "15             0          0.171476\n",
              "16             1          0.398768\n",
              "17             0          0.317505\n",
              "18             1          0.964553\n",
              "19             1          0.277134"
            ]
          },
          "metadata": {
            "tags": []
          },
          "execution_count": 46
        }
      ]
    }
  ]
}